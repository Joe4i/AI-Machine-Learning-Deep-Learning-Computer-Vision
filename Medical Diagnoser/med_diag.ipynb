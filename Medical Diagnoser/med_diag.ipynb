{
 "cells": [
  {
   "cell_type": "markdown",
   "metadata": {},
   "source": [
    "## Import Libraries and Set Up the Environment\n"
   ]
  },
  {
   "cell_type": "code",
   "execution_count": 365,
   "metadata": {},
   "outputs": [],
   "source": [
    "import pandas as pd\n",
    "import numpy as np\n",
    "import re\n",
    "import nltk\n",
    "from nltk.corpus import stopwords\n",
    "from nltk.stem import PorterStemmer\n",
    "from tensorflow.keras.preprocessing.text import Tokenizer\n",
    "from tensorflow.keras.preprocessing.sequence import pad_sequences\n",
    "from tensorflow.keras.utils import to_categorical\n",
    "from sklearn.preprocessing import LabelEncoder\n",
    "from tensorflow.keras.models import Model\n",
    "from tensorflow.keras.layers import Input, Embedding, LSTM, Dense"
   ]
  },
  {
   "cell_type": "markdown",
   "metadata": {},
   "source": [
    "# Load the dataset"
   ]
  },
  {
   "cell_type": "code",
   "execution_count": 366,
   "metadata": {},
   "outputs": [],
   "source": [
    "dataset = pd.read_csv('medical_data.csv')"
   ]
  },
  {
   "cell_type": "markdown",
   "metadata": {},
   "source": [
    "# Initialize NLTK tools"
   ]
  },
  {
   "cell_type": "code",
   "execution_count": 367,
   "metadata": {},
   "outputs": [],
   "source": [
    "nltk.data.path.append('/Users/bahodirnematjonov/Desktop/AI-Machine-Learning-Deep-Learning-Computer-Vision/nltk_data')\n",
    "all_words = set(stopwords.words('english'))\n",
    "ps = PorterStemmer()"
   ]
  },
  {
   "cell_type": "markdown",
   "metadata": {},
   "source": [
    "# Preprocessing function"
   ]
  },
  {
   "cell_type": "code",
   "execution_count": 368,
   "metadata": {},
   "outputs": [],
   "source": [
    "def preprocessong(text):\n",
    "    reviews = re.sub('[^a-zA-Z]', ' ', text)\n",
    "    reviews = reviews.lower()\n",
    "    reviews = reviews.split()\n",
    "    review = [ps.stem(word) for word in reviews if word not in all_words]\n",
    "    return ' '.join(review) "
   ]
  },
  {
   "cell_type": "markdown",
   "metadata": {},
   "source": [
    "# Preprocess the Patient_Problem column"
   ]
  },
  {
   "cell_type": "code",
   "execution_count": 369,
   "metadata": {},
   "outputs": [],
   "source": [
    "corpus = dataset['Patient_Problem'].apply(preprocessong).tolist()"
   ]
  },
  {
   "cell_type": "markdown",
   "metadata": {},
   "source": [
    "# Tokenization and padding"
   ]
  },
  {
   "cell_type": "code",
   "execution_count": 391,
   "metadata": {},
   "outputs": [],
   "source": [
    "tokenizer = Tokenizer(num_words=5000)\n",
    "tokenizer.fit_on_texts(corpus)\n",
    "sequences = tokenizer.texts_to_sequences(corpus)\n",
    "max_length = max(len(x) for x in sequences)\n",
    "padded_sequences = pad_sequences(sequences, maxlen=max_length)\n"
   ]
  },
  {
   "cell_type": "markdown",
   "metadata": {},
   "source": [
    "# Encode labels"
   ]
  },
  {
   "cell_type": "code",
   "execution_count": 371,
   "metadata": {},
   "outputs": [],
   "source": [
    "disease_label = LabelEncoder()\n",
    "prescription_label = LabelEncoder()\n",
    "\n",
    "disease_encoder = disease_label.fit_transform(dataset['Disease'])\n",
    "prescription_encoder = prescription_label.fit_transform(dataset['Prescription'])"
   ]
  },
  {
   "cell_type": "markdown",
   "metadata": {},
   "source": [
    "# Encode the disease and prescription labels to categorical format"
   ]
  },
  {
   "cell_type": "code",
   "execution_count": 372,
   "metadata": {},
   "outputs": [],
   "source": [
    "disease_encoded = to_categorical(disease_encoder)\n",
    "prescription_encoded = to_categorical(prescription_encoder)"
   ]
  },
  {
   "cell_type": "markdown",
   "metadata": {},
   "source": [
    "# Build the model"
   ]
  },
  {
   "cell_type": "code",
   "execution_count": 373,
   "metadata": {},
   "outputs": [],
   "source": [
    "input_layer = Input(shape=(max_length,))\n",
    "embedding_layer = Embedding(input_dim=5000, output_dim=64)(input_layer)\n",
    "lstm_layer = LSTM(64)(embedding_layer)\n",
    "output_layer = Dense(10, activation='softmax')(lstm_layer)"
   ]
  },
  {
   "cell_type": "markdown",
   "metadata": {},
   "source": [
    "# Output layers for disease and prescription predictions"
   ]
  },
  {
   "cell_type": "code",
   "execution_count": 374,
   "metadata": {},
   "outputs": [],
   "source": [
    "disease_output = Dense(len(disease_label.classes_), activation='softmax', name='disease_output')(lstm_layer)\n",
    "prescription_output = Dense(len(prescription_label.classes_), activation='softmax', name='prescription_output')(lstm_layer)\n",
    "\n"
   ]
  },
  {
   "cell_type": "markdown",
   "metadata": {},
   "source": [
    "# Compile the model"
   ]
  },
  {
   "cell_type": "code",
   "execution_count": 380,
   "metadata": {},
   "outputs": [
    {
     "data": {
      "text/html": [
       "<pre style=\"white-space:pre;overflow-x:auto;line-height:normal;font-family:Menlo,'DejaVu Sans Mono',consolas,'Courier New',monospace\"><span style=\"font-weight: bold\">Model: \"functional_31\"</span>\n",
       "</pre>\n"
      ],
      "text/plain": [
       "\u001b[1mModel: \"functional_31\"\u001b[0m\n"
      ]
     },
     "metadata": {},
     "output_type": "display_data"
    },
    {
     "data": {
      "text/html": [
       "<pre style=\"white-space:pre;overflow-x:auto;line-height:normal;font-family:Menlo,'DejaVu Sans Mono',consolas,'Courier New',monospace\">┏━━━━━━━━━━━━━━━━━━━━━┳━━━━━━━━━━━━━━━━━━━┳━━━━━━━━━━━━┳━━━━━━━━━━━━━━━━━━━┓\n",
       "┃<span style=\"font-weight: bold\"> Layer (type)        </span>┃<span style=\"font-weight: bold\"> Output Shape      </span>┃<span style=\"font-weight: bold\">    Param # </span>┃<span style=\"font-weight: bold\"> Connected to      </span>┃\n",
       "┡━━━━━━━━━━━━━━━━━━━━━╇━━━━━━━━━━━━━━━━━━━╇━━━━━━━━━━━━╇━━━━━━━━━━━━━━━━━━━┩\n",
       "│ input_layer_36      │ (<span style=\"color: #00d7ff; text-decoration-color: #00d7ff\">None</span>, <span style=\"color: #00af00; text-decoration-color: #00af00\">9</span>)         │          <span style=\"color: #00af00; text-decoration-color: #00af00\">0</span> │ -                 │\n",
       "│ (<span style=\"color: #0087ff; text-decoration-color: #0087ff\">InputLayer</span>)        │                   │            │                   │\n",
       "├─────────────────────┼───────────────────┼────────────┼───────────────────┤\n",
       "│ embedding_24        │ (<span style=\"color: #00d7ff; text-decoration-color: #00d7ff\">None</span>, <span style=\"color: #00af00; text-decoration-color: #00af00\">9</span>, <span style=\"color: #00af00; text-decoration-color: #00af00\">64</span>)     │    <span style=\"color: #00af00; text-decoration-color: #00af00\">320,000</span> │ input_layer_36[<span style=\"color: #00af00; text-decoration-color: #00af00\">0</span>… │\n",
       "│ (<span style=\"color: #0087ff; text-decoration-color: #0087ff\">Embedding</span>)         │                   │            │                   │\n",
       "├─────────────────────┼───────────────────┼────────────┼───────────────────┤\n",
       "│ lstm_24 (<span style=\"color: #0087ff; text-decoration-color: #0087ff\">LSTM</span>)      │ (<span style=\"color: #00d7ff; text-decoration-color: #00d7ff\">None</span>, <span style=\"color: #00af00; text-decoration-color: #00af00\">64</span>)        │     <span style=\"color: #00af00; text-decoration-color: #00af00\">33,024</span> │ embedding_24[<span style=\"color: #00af00; text-decoration-color: #00af00\">0</span>][<span style=\"color: #00af00; text-decoration-color: #00af00\">…</span> │\n",
       "├─────────────────────┼───────────────────┼────────────┼───────────────────┤\n",
       "│ disease_output      │ (<span style=\"color: #00d7ff; text-decoration-color: #00d7ff\">None</span>, <span style=\"color: #00af00; text-decoration-color: #00af00\">178</span>)       │     <span style=\"color: #00af00; text-decoration-color: #00af00\">11,570</span> │ lstm_24[<span style=\"color: #00af00; text-decoration-color: #00af00\">0</span>][<span style=\"color: #00af00; text-decoration-color: #00af00\">0</span>]     │\n",
       "│ (<span style=\"color: #0087ff; text-decoration-color: #0087ff\">Dense</span>)             │                   │            │                   │\n",
       "├─────────────────────┼───────────────────┼────────────┼───────────────────┤\n",
       "│ prescription_output │ (<span style=\"color: #00d7ff; text-decoration-color: #00d7ff\">None</span>, <span style=\"color: #00af00; text-decoration-color: #00af00\">388</span>)       │     <span style=\"color: #00af00; text-decoration-color: #00af00\">25,220</span> │ lstm_24[<span style=\"color: #00af00; text-decoration-color: #00af00\">0</span>][<span style=\"color: #00af00; text-decoration-color: #00af00\">0</span>]     │\n",
       "│ (<span style=\"color: #0087ff; text-decoration-color: #0087ff\">Dense</span>)             │                   │            │                   │\n",
       "└─────────────────────┴───────────────────┴────────────┴───────────────────┘\n",
       "</pre>\n"
      ],
      "text/plain": [
       "┏━━━━━━━━━━━━━━━━━━━━━┳━━━━━━━━━━━━━━━━━━━┳━━━━━━━━━━━━┳━━━━━━━━━━━━━━━━━━━┓\n",
       "┃\u001b[1m \u001b[0m\u001b[1mLayer (type)       \u001b[0m\u001b[1m \u001b[0m┃\u001b[1m \u001b[0m\u001b[1mOutput Shape     \u001b[0m\u001b[1m \u001b[0m┃\u001b[1m \u001b[0m\u001b[1m   Param #\u001b[0m\u001b[1m \u001b[0m┃\u001b[1m \u001b[0m\u001b[1mConnected to     \u001b[0m\u001b[1m \u001b[0m┃\n",
       "┡━━━━━━━━━━━━━━━━━━━━━╇━━━━━━━━━━━━━━━━━━━╇━━━━━━━━━━━━╇━━━━━━━━━━━━━━━━━━━┩\n",
       "│ input_layer_36      │ (\u001b[38;5;45mNone\u001b[0m, \u001b[38;5;34m9\u001b[0m)         │          \u001b[38;5;34m0\u001b[0m │ -                 │\n",
       "│ (\u001b[38;5;33mInputLayer\u001b[0m)        │                   │            │                   │\n",
       "├─────────────────────┼───────────────────┼────────────┼───────────────────┤\n",
       "│ embedding_24        │ (\u001b[38;5;45mNone\u001b[0m, \u001b[38;5;34m9\u001b[0m, \u001b[38;5;34m64\u001b[0m)     │    \u001b[38;5;34m320,000\u001b[0m │ input_layer_36[\u001b[38;5;34m0\u001b[0m… │\n",
       "│ (\u001b[38;5;33mEmbedding\u001b[0m)         │                   │            │                   │\n",
       "├─────────────────────┼───────────────────┼────────────┼───────────────────┤\n",
       "│ lstm_24 (\u001b[38;5;33mLSTM\u001b[0m)      │ (\u001b[38;5;45mNone\u001b[0m, \u001b[38;5;34m64\u001b[0m)        │     \u001b[38;5;34m33,024\u001b[0m │ embedding_24[\u001b[38;5;34m0\u001b[0m][\u001b[38;5;34m…\u001b[0m │\n",
       "├─────────────────────┼───────────────────┼────────────┼───────────────────┤\n",
       "│ disease_output      │ (\u001b[38;5;45mNone\u001b[0m, \u001b[38;5;34m178\u001b[0m)       │     \u001b[38;5;34m11,570\u001b[0m │ lstm_24[\u001b[38;5;34m0\u001b[0m][\u001b[38;5;34m0\u001b[0m]     │\n",
       "│ (\u001b[38;5;33mDense\u001b[0m)             │                   │            │                   │\n",
       "├─────────────────────┼───────────────────┼────────────┼───────────────────┤\n",
       "│ prescription_output │ (\u001b[38;5;45mNone\u001b[0m, \u001b[38;5;34m388\u001b[0m)       │     \u001b[38;5;34m25,220\u001b[0m │ lstm_24[\u001b[38;5;34m0\u001b[0m][\u001b[38;5;34m0\u001b[0m]     │\n",
       "│ (\u001b[38;5;33mDense\u001b[0m)             │                   │            │                   │\n",
       "└─────────────────────┴───────────────────┴────────────┴───────────────────┘\n"
      ]
     },
     "metadata": {},
     "output_type": "display_data"
    },
    {
     "data": {
      "text/html": [
       "<pre style=\"white-space:pre;overflow-x:auto;line-height:normal;font-family:Menlo,'DejaVu Sans Mono',consolas,'Courier New',monospace\"><span style=\"font-weight: bold\"> Total params: </span><span style=\"color: #00af00; text-decoration-color: #00af00\">389,814</span> (1.49 MB)\n",
       "</pre>\n"
      ],
      "text/plain": [
       "\u001b[1m Total params: \u001b[0m\u001b[38;5;34m389,814\u001b[0m (1.49 MB)\n"
      ]
     },
     "metadata": {},
     "output_type": "display_data"
    },
    {
     "data": {
      "text/html": [
       "<pre style=\"white-space:pre;overflow-x:auto;line-height:normal;font-family:Menlo,'DejaVu Sans Mono',consolas,'Courier New',monospace\"><span style=\"font-weight: bold\"> Trainable params: </span><span style=\"color: #00af00; text-decoration-color: #00af00\">389,814</span> (1.49 MB)\n",
       "</pre>\n"
      ],
      "text/plain": [
       "\u001b[1m Trainable params: \u001b[0m\u001b[38;5;34m389,814\u001b[0m (1.49 MB)\n"
      ]
     },
     "metadata": {},
     "output_type": "display_data"
    },
    {
     "data": {
      "text/html": [
       "<pre style=\"white-space:pre;overflow-x:auto;line-height:normal;font-family:Menlo,'DejaVu Sans Mono',consolas,'Courier New',monospace\"><span style=\"font-weight: bold\"> Non-trainable params: </span><span style=\"color: #00af00; text-decoration-color: #00af00\">0</span> (0.00 B)\n",
       "</pre>\n"
      ],
      "text/plain": [
       "\u001b[1m Non-trainable params: \u001b[0m\u001b[38;5;34m0\u001b[0m (0.00 B)\n"
      ]
     },
     "metadata": {},
     "output_type": "display_data"
    }
   ],
   "source": [
    "model = Model(inputs=input_layer, outputs=[disease_output, prescription_output])\n",
    "model.compile(\n",
    "    optimizer='adam',\n",
    "    loss={\n",
    "        'disease_output': 'categorical_crossentropy',\n",
    "        'prescription_output': 'categorical_crossentropy',\n",
    "    },\n",
    "    metrics={'disease_output': 'accuracy',          # Metric for disease output\n",
    "        'prescription_output': 'accuracy'}   \n",
    ")\n",
    "model.summary()"
   ]
  },
  {
   "cell_type": "markdown",
   "metadata": {},
   "source": [
    "# Train the model"
   ]
  },
  {
   "cell_type": "code",
   "execution_count": 381,
   "metadata": {},
   "outputs": [
    {
     "name": "stdout",
     "output_type": "stream",
     "text": [
      "Epoch 1/100\n",
      "\u001b[1m13/13\u001b[0m \u001b[32m━━━━━━━━━━━━━━━━━━━━\u001b[0m\u001b[37m\u001b[0m \u001b[1m1s\u001b[0m 4ms/step - disease_output_accuracy: 0.0255 - disease_output_loss: 5.1810 - loss: 11.1437 - prescription_output_accuracy: 0.0000e+00 - prescription_output_loss: 5.9628\n",
      "Epoch 2/100\n",
      "\u001b[1m13/13\u001b[0m \u001b[32m━━━━━━━━━━━━━━━━━━━━\u001b[0m\u001b[37m\u001b[0m \u001b[1m0s\u001b[0m 5ms/step - disease_output_accuracy: 0.1322 - disease_output_loss: 5.1646 - loss: 11.1229 - prescription_output_accuracy: 0.0111 - prescription_output_loss: 5.9583   \n",
      "Epoch 3/100\n",
      "\u001b[1m13/13\u001b[0m \u001b[32m━━━━━━━━━━━━━━━━━━━━\u001b[0m\u001b[37m\u001b[0m \u001b[1m0s\u001b[0m 5ms/step - disease_output_accuracy: 0.1038 - disease_output_loss: 5.1409 - loss: 11.0941 - prescription_output_accuracy: 0.0252 - prescription_output_loss: 5.9533\n",
      "Epoch 4/100\n",
      "\u001b[1m13/13\u001b[0m \u001b[32m━━━━━━━━━━━━━━━━━━━━\u001b[0m\u001b[37m\u001b[0m \u001b[1m0s\u001b[0m 5ms/step - disease_output_accuracy: 0.0491 - disease_output_loss: 5.0613 - loss: 11.0118 - prescription_output_accuracy: 0.0091 - prescription_output_loss: 5.9504\n",
      "Epoch 5/100\n",
      "\u001b[1m13/13\u001b[0m \u001b[32m━━━━━━━━━━━━━━━━━━━━\u001b[0m\u001b[37m\u001b[0m \u001b[1m0s\u001b[0m 5ms/step - disease_output_accuracy: 0.0402 - disease_output_loss: 4.8819 - loss: 10.8014 - prescription_output_accuracy: 0.0046 - prescription_output_loss: 5.9196   \n",
      "Epoch 6/100\n",
      "\u001b[1m13/13\u001b[0m \u001b[32m━━━━━━━━━━━━━━━━━━━━\u001b[0m\u001b[37m\u001b[0m \u001b[1m0s\u001b[0m 4ms/step - disease_output_accuracy: 0.0648 - disease_output_loss: 4.8015 - loss: 10.6952 - prescription_output_accuracy: 0.0147 - prescription_output_loss: 5.8945\n",
      "Epoch 7/100\n",
      "\u001b[1m13/13\u001b[0m \u001b[32m━━━━━━━━━━━━━━━━━━━━\u001b[0m\u001b[37m\u001b[0m \u001b[1m0s\u001b[0m 4ms/step - disease_output_accuracy: 0.0560 - disease_output_loss: 4.6114 - loss: 10.4562 - prescription_output_accuracy: 0.0219 - prescription_output_loss: 5.8439\n",
      "Epoch 8/100\n",
      "\u001b[1m13/13\u001b[0m \u001b[32m━━━━━━━━━━━━━━━━━━━━\u001b[0m\u001b[37m\u001b[0m \u001b[1m0s\u001b[0m 5ms/step - disease_output_accuracy: 0.1085 - disease_output_loss: 4.4133 - loss: 10.1111 - prescription_output_accuracy: 0.0325 - prescription_output_loss: 5.6984\n",
      "Epoch 9/100\n",
      "\u001b[1m13/13\u001b[0m \u001b[32m━━━━━━━━━━━━━━━━━━━━\u001b[0m\u001b[37m\u001b[0m \u001b[1m0s\u001b[0m 5ms/step - disease_output_accuracy: 0.1067 - disease_output_loss: 4.2250 - loss: 9.7958 - prescription_output_accuracy: 0.0297 - prescription_output_loss: 5.5714\n",
      "Epoch 10/100\n",
      "\u001b[1m13/13\u001b[0m \u001b[32m━━━━━━━━━━━━━━━━━━━━\u001b[0m\u001b[37m\u001b[0m \u001b[1m0s\u001b[0m 6ms/step - disease_output_accuracy: 0.1614 - disease_output_loss: 4.0382 - loss: 9.4819 - prescription_output_accuracy: 0.0478 - prescription_output_loss: 5.4447\n",
      "Epoch 11/100\n",
      "\u001b[1m13/13\u001b[0m \u001b[32m━━━━━━━━━━━━━━━━━━━━\u001b[0m\u001b[37m\u001b[0m \u001b[1m0s\u001b[0m 5ms/step - disease_output_accuracy: 0.1777 - disease_output_loss: 3.8748 - loss: 9.1657 - prescription_output_accuracy: 0.0602 - prescription_output_loss: 5.2916\n",
      "Epoch 12/100\n",
      "\u001b[1m13/13\u001b[0m \u001b[32m━━━━━━━━━━━━━━━━━━━━\u001b[0m\u001b[37m\u001b[0m \u001b[1m0s\u001b[0m 5ms/step - disease_output_accuracy: 0.1996 - disease_output_loss: 3.7401 - loss: 8.9202 - prescription_output_accuracy: 0.0465 - prescription_output_loss: 5.1816\n",
      "Epoch 13/100\n",
      "\u001b[1m13/13\u001b[0m \u001b[32m━━━━━━━━━━━━━━━━━━━━\u001b[0m\u001b[37m\u001b[0m \u001b[1m0s\u001b[0m 5ms/step - disease_output_accuracy: 0.2595 - disease_output_loss: 3.5341 - loss: 8.5638 - prescription_output_accuracy: 0.0544 - prescription_output_loss: 5.0304\n",
      "Epoch 14/100\n",
      "\u001b[1m13/13\u001b[0m \u001b[32m━━━━━━━━━━━━━━━━━━━━\u001b[0m\u001b[37m\u001b[0m \u001b[1m0s\u001b[0m 5ms/step - disease_output_accuracy: 0.2998 - disease_output_loss: 3.2967 - loss: 8.1833 - prescription_output_accuracy: 0.0819 - prescription_output_loss: 4.8854\n",
      "Epoch 15/100\n",
      "\u001b[1m13/13\u001b[0m \u001b[32m━━━━━━━━━━━━━━━━━━━━\u001b[0m\u001b[37m\u001b[0m \u001b[1m0s\u001b[0m 5ms/step - disease_output_accuracy: 0.3170 - disease_output_loss: 3.2026 - loss: 7.9509 - prescription_output_accuracy: 0.1409 - prescription_output_loss: 4.7481\n",
      "Epoch 16/100\n",
      "\u001b[1m13/13\u001b[0m \u001b[32m━━━━━━━━━━━━━━━━━━━━\u001b[0m\u001b[37m\u001b[0m \u001b[1m0s\u001b[0m 5ms/step - disease_output_accuracy: 0.3476 - disease_output_loss: 3.0762 - loss: 7.6537 - prescription_output_accuracy: 0.1251 - prescription_output_loss: 4.5789\n",
      "Epoch 17/100\n",
      "\u001b[1m13/13\u001b[0m \u001b[32m━━━━━━━━━━━━━━━━━━━━\u001b[0m\u001b[37m\u001b[0m \u001b[1m0s\u001b[0m 5ms/step - disease_output_accuracy: 0.3629 - disease_output_loss: 2.8660 - loss: 7.2982 - prescription_output_accuracy: 0.1758 - prescription_output_loss: 4.4326\n",
      "Epoch 18/100\n",
      "\u001b[1m13/13\u001b[0m \u001b[32m━━━━━━━━━━━━━━━━━━━━\u001b[0m\u001b[37m\u001b[0m \u001b[1m0s\u001b[0m 5ms/step - disease_output_accuracy: 0.3927 - disease_output_loss: 2.7807 - loss: 7.0842 - prescription_output_accuracy: 0.2191 - prescription_output_loss: 4.3032\n",
      "Epoch 19/100\n",
      "\u001b[1m13/13\u001b[0m \u001b[32m━━━━━━━━━━━━━━━━━━━━\u001b[0m\u001b[37m\u001b[0m \u001b[1m0s\u001b[0m 5ms/step - disease_output_accuracy: 0.4382 - disease_output_loss: 2.6597 - loss: 6.8816 - prescription_output_accuracy: 0.2678 - prescription_output_loss: 4.2208\n",
      "Epoch 20/100\n",
      "\u001b[1m13/13\u001b[0m \u001b[32m━━━━━━━━━━━━━━━━━━━━\u001b[0m\u001b[37m\u001b[0m \u001b[1m0s\u001b[0m 5ms/step - disease_output_accuracy: 0.4984 - disease_output_loss: 2.4733 - loss: 6.4883 - prescription_output_accuracy: 0.3183 - prescription_output_loss: 4.0166\n",
      "Epoch 21/100\n",
      "\u001b[1m13/13\u001b[0m \u001b[32m━━━━━━━━━━━━━━━━━━━━\u001b[0m\u001b[37m\u001b[0m \u001b[1m0s\u001b[0m 5ms/step - disease_output_accuracy: 0.5286 - disease_output_loss: 2.3514 - loss: 6.2563 - prescription_output_accuracy: 0.3786 - prescription_output_loss: 3.9050\n",
      "Epoch 22/100\n",
      "\u001b[1m13/13\u001b[0m \u001b[32m━━━━━━━━━━━━━━━━━━━━\u001b[0m\u001b[37m\u001b[0m \u001b[1m0s\u001b[0m 5ms/step - disease_output_accuracy: 0.5803 - disease_output_loss: 2.2295 - loss: 5.9931 - prescription_output_accuracy: 0.4014 - prescription_output_loss: 3.7639\n",
      "Epoch 23/100\n",
      "\u001b[1m13/13\u001b[0m \u001b[32m━━━━━━━━━━━━━━━━━━━━\u001b[0m\u001b[37m\u001b[0m \u001b[1m0s\u001b[0m 5ms/step - disease_output_accuracy: 0.5728 - disease_output_loss: 2.2063 - loss: 5.8441 - prescription_output_accuracy: 0.4955 - prescription_output_loss: 3.6368\n",
      "Epoch 24/100\n",
      "\u001b[1m13/13\u001b[0m \u001b[32m━━━━━━━━━━━━━━━━━━━━\u001b[0m\u001b[37m\u001b[0m \u001b[1m0s\u001b[0m 5ms/step - disease_output_accuracy: 0.6306 - disease_output_loss: 2.0171 - loss: 5.5722 - prescription_output_accuracy: 0.4433 - prescription_output_loss: 3.5559\n",
      "Epoch 25/100\n",
      "\u001b[1m13/13\u001b[0m \u001b[32m━━━━━━━━━━━━━━━━━━━━\u001b[0m\u001b[37m\u001b[0m \u001b[1m0s\u001b[0m 5ms/step - disease_output_accuracy: 0.6385 - disease_output_loss: 1.9780 - loss: 5.4405 - prescription_output_accuracy: 0.5341 - prescription_output_loss: 3.4610\n",
      "Epoch 26/100\n",
      "\u001b[1m13/13\u001b[0m \u001b[32m━━━━━━━━━━━━━━━━━━━━\u001b[0m\u001b[37m\u001b[0m \u001b[1m0s\u001b[0m 5ms/step - disease_output_accuracy: 0.7022 - disease_output_loss: 1.7696 - loss: 5.1156 - prescription_output_accuracy: 0.5226 - prescription_output_loss: 3.3462\n",
      "Epoch 27/100\n",
      "\u001b[1m13/13\u001b[0m \u001b[32m━━━━━━━━━━━━━━━━━━━━\u001b[0m\u001b[37m\u001b[0m \u001b[1m0s\u001b[0m 5ms/step - disease_output_accuracy: 0.6848 - disease_output_loss: 1.7414 - loss: 4.9450 - prescription_output_accuracy: 0.5647 - prescription_output_loss: 3.2024\n",
      "Epoch 28/100\n",
      "\u001b[1m13/13\u001b[0m \u001b[32m━━━━━━━━━━━━━━━━━━━━\u001b[0m\u001b[37m\u001b[0m \u001b[1m0s\u001b[0m 5ms/step - disease_output_accuracy: 0.7327 - disease_output_loss: 1.6560 - loss: 4.7614 - prescription_output_accuracy: 0.5422 - prescription_output_loss: 3.1060\n",
      "Epoch 29/100\n",
      "\u001b[1m13/13\u001b[0m \u001b[32m━━━━━━━━━━━━━━━━━━━━\u001b[0m\u001b[37m\u001b[0m \u001b[1m0s\u001b[0m 5ms/step - disease_output_accuracy: 0.7179 - disease_output_loss: 1.5941 - loss: 4.5568 - prescription_output_accuracy: 0.5703 - prescription_output_loss: 2.9629\n",
      "Epoch 30/100\n",
      "\u001b[1m13/13\u001b[0m \u001b[32m━━━━━━━━━━━━━━━━━━━━\u001b[0m\u001b[37m\u001b[0m \u001b[1m0s\u001b[0m 5ms/step - disease_output_accuracy: 0.7356 - disease_output_loss: 1.5280 - loss: 4.3971 - prescription_output_accuracy: 0.6362 - prescription_output_loss: 2.8687\n",
      "Epoch 31/100\n",
      "\u001b[1m13/13\u001b[0m \u001b[32m━━━━━━━━━━━━━━━━━━━━\u001b[0m\u001b[37m\u001b[0m \u001b[1m0s\u001b[0m 5ms/step - disease_output_accuracy: 0.7944 - disease_output_loss: 1.3737 - loss: 4.1478 - prescription_output_accuracy: 0.6698 - prescription_output_loss: 2.7748\n",
      "Epoch 32/100\n",
      "\u001b[1m13/13\u001b[0m \u001b[32m━━━━━━━━━━━━━━━━━━━━\u001b[0m\u001b[37m\u001b[0m \u001b[1m0s\u001b[0m 5ms/step - disease_output_accuracy: 0.7773 - disease_output_loss: 1.3213 - loss: 3.9875 - prescription_output_accuracy: 0.6890 - prescription_output_loss: 2.6668\n",
      "Epoch 33/100\n",
      "\u001b[1m13/13\u001b[0m \u001b[32m━━━━━━━━━━━━━━━━━━━━\u001b[0m\u001b[37m\u001b[0m \u001b[1m0s\u001b[0m 5ms/step - disease_output_accuracy: 0.7909 - disease_output_loss: 1.2716 - loss: 3.8237 - prescription_output_accuracy: 0.6976 - prescription_output_loss: 2.5527\n",
      "Epoch 34/100\n",
      "\u001b[1m13/13\u001b[0m \u001b[32m━━━━━━━━━━━━━━━━━━━━\u001b[0m\u001b[37m\u001b[0m \u001b[1m0s\u001b[0m 6ms/step - disease_output_accuracy: 0.8266 - disease_output_loss: 1.2178 - loss: 3.6672 - prescription_output_accuracy: 0.7312 - prescription_output_loss: 2.4497\n",
      "Epoch 35/100\n",
      "\u001b[1m13/13\u001b[0m \u001b[32m━━━━━━━━━━━━━━━━━━━━\u001b[0m\u001b[37m\u001b[0m \u001b[1m0s\u001b[0m 6ms/step - disease_output_accuracy: 0.8438 - disease_output_loss: 1.1232 - loss: 3.4754 - prescription_output_accuracy: 0.7591 - prescription_output_loss: 2.3528\n",
      "Epoch 36/100\n",
      "\u001b[1m13/13\u001b[0m \u001b[32m━━━━━━━━━━━━━━━━━━━━\u001b[0m\u001b[37m\u001b[0m \u001b[1m0s\u001b[0m 6ms/step - disease_output_accuracy: 0.8553 - disease_output_loss: 1.0429 - loss: 3.3654 - prescription_output_accuracy: 0.7380 - prescription_output_loss: 2.3226\n",
      "Epoch 37/100\n",
      "\u001b[1m13/13\u001b[0m \u001b[32m━━━━━━━━━━━━━━━━━━━━\u001b[0m\u001b[37m\u001b[0m \u001b[1m0s\u001b[0m 5ms/step - disease_output_accuracy: 0.8515 - disease_output_loss: 1.0085 - loss: 3.2590 - prescription_output_accuracy: 0.7542 - prescription_output_loss: 2.2513\n",
      "Epoch 38/100\n",
      "\u001b[1m13/13\u001b[0m \u001b[32m━━━━━━━━━━━━━━━━━━━━\u001b[0m\u001b[37m\u001b[0m \u001b[1m0s\u001b[0m 5ms/step - disease_output_accuracy: 0.8762 - disease_output_loss: 0.9608 - loss: 3.1122 - prescription_output_accuracy: 0.7818 - prescription_output_loss: 2.1514\n",
      "Epoch 39/100\n",
      "\u001b[1m13/13\u001b[0m \u001b[32m━━━━━━━━━━━━━━━━━━━━\u001b[0m\u001b[37m\u001b[0m \u001b[1m0s\u001b[0m 5ms/step - disease_output_accuracy: 0.8735 - disease_output_loss: 0.9420 - loss: 3.0039 - prescription_output_accuracy: 0.8131 - prescription_output_loss: 2.0630\n",
      "Epoch 40/100\n",
      "\u001b[1m13/13\u001b[0m \u001b[32m━━━━━━━━━━━━━━━━━━━━\u001b[0m\u001b[37m\u001b[0m \u001b[1m0s\u001b[0m 6ms/step - disease_output_accuracy: 0.8836 - disease_output_loss: 0.9055 - loss: 2.9202 - prescription_output_accuracy: 0.8161 - prescription_output_loss: 2.0142\n",
      "Epoch 41/100\n",
      "\u001b[1m13/13\u001b[0m \u001b[32m━━━━━━━━━━━━━━━━━━━━\u001b[0m\u001b[37m\u001b[0m \u001b[1m0s\u001b[0m 6ms/step - disease_output_accuracy: 0.8606 - disease_output_loss: 0.8996 - loss: 2.8123 - prescription_output_accuracy: 0.8216 - prescription_output_loss: 1.9130\n",
      "Epoch 42/100\n",
      "\u001b[1m13/13\u001b[0m \u001b[32m━━━━━━━━━━━━━━━━━━━━\u001b[0m\u001b[37m\u001b[0m \u001b[1m0s\u001b[0m 6ms/step - disease_output_accuracy: 0.8912 - disease_output_loss: 0.8156 - loss: 2.6733 - prescription_output_accuracy: 0.8122 - prescription_output_loss: 1.8578\n",
      "Epoch 43/100\n",
      "\u001b[1m13/13\u001b[0m \u001b[32m━━━━━━━━━━━━━━━━━━━━\u001b[0m\u001b[37m\u001b[0m \u001b[1m0s\u001b[0m 6ms/step - disease_output_accuracy: 0.9286 - disease_output_loss: 0.7472 - loss: 2.5146 - prescription_output_accuracy: 0.8340 - prescription_output_loss: 1.7678\n",
      "Epoch 44/100\n",
      "\u001b[1m13/13\u001b[0m \u001b[32m━━━━━━━━━━━━━━━━━━━━\u001b[0m\u001b[37m\u001b[0m \u001b[1m0s\u001b[0m 16ms/step - disease_output_accuracy: 0.9115 - disease_output_loss: 0.7662 - loss: 2.4804 - prescription_output_accuracy: 0.8447 - prescription_output_loss: 1.7146\n",
      "Epoch 45/100\n",
      "\u001b[1m13/13\u001b[0m \u001b[32m━━━━━━━━━━━━━━━━━━━━\u001b[0m\u001b[37m\u001b[0m \u001b[1m0s\u001b[0m 14ms/step - disease_output_accuracy: 0.9182 - disease_output_loss: 0.7007 - loss: 2.3536 - prescription_output_accuracy: 0.8650 - prescription_output_loss: 1.6536\n",
      "Epoch 46/100\n",
      "\u001b[1m13/13\u001b[0m \u001b[32m━━━━━━━━━━━━━━━━━━━━\u001b[0m\u001b[37m\u001b[0m \u001b[1m0s\u001b[0m 8ms/step - disease_output_accuracy: 0.9120 - disease_output_loss: 0.6822 - loss: 2.3561 - prescription_output_accuracy: 0.8525 - prescription_output_loss: 1.6740\n",
      "Epoch 47/100\n",
      "\u001b[1m13/13\u001b[0m \u001b[32m━━━━━━━━━━━━━━━━━━━━\u001b[0m\u001b[37m\u001b[0m \u001b[1m0s\u001b[0m 8ms/step - disease_output_accuracy: 0.9217 - disease_output_loss: 0.6885 - loss: 2.2253 - prescription_output_accuracy: 0.9159 - prescription_output_loss: 1.5368\n",
      "Epoch 48/100\n",
      "\u001b[1m13/13\u001b[0m \u001b[32m━━━━━━━━━━━━━━━━━━━━\u001b[0m\u001b[37m\u001b[0m \u001b[1m0s\u001b[0m 12ms/step - disease_output_accuracy: 0.9319 - disease_output_loss: 0.6295 - loss: 2.1443 - prescription_output_accuracy: 0.8655 - prescription_output_loss: 1.5155\n",
      "Epoch 49/100\n",
      "\u001b[1m13/13\u001b[0m \u001b[32m━━━━━━━━━━━━━━━━━━━━\u001b[0m\u001b[37m\u001b[0m \u001b[1m0s\u001b[0m 13ms/step - disease_output_accuracy: 0.9286 - disease_output_loss: 0.6444 - loss: 2.1032 - prescription_output_accuracy: 0.9025 - prescription_output_loss: 1.4592\n",
      "Epoch 50/100\n",
      "\u001b[1m13/13\u001b[0m \u001b[32m━━━━━━━━━━━━━━━━━━━━\u001b[0m\u001b[37m\u001b[0m \u001b[1m0s\u001b[0m 14ms/step - disease_output_accuracy: 0.9399 - disease_output_loss: 0.5680 - loss: 1.9912 - prescription_output_accuracy: 0.9042 - prescription_output_loss: 1.4234\n",
      "Epoch 51/100\n",
      "\u001b[1m13/13\u001b[0m \u001b[32m━━━━━━━━━━━━━━━━━━━━\u001b[0m\u001b[37m\u001b[0m \u001b[1m0s\u001b[0m 8ms/step - disease_output_accuracy: 0.9414 - disease_output_loss: 0.5670 - loss: 1.9634 - prescription_output_accuracy: 0.9036 - prescription_output_loss: 1.3957\n",
      "Epoch 52/100\n",
      "\u001b[1m13/13\u001b[0m \u001b[32m━━━━━━━━━━━━━━━━━━━━\u001b[0m\u001b[37m\u001b[0m \u001b[1m0s\u001b[0m 6ms/step - disease_output_accuracy: 0.9293 - disease_output_loss: 0.5629 - loss: 1.9035 - prescription_output_accuracy: 0.9070 - prescription_output_loss: 1.3407\n",
      "Epoch 53/100\n",
      "\u001b[1m13/13\u001b[0m \u001b[32m━━━━━━━━━━━━━━━━━━━━\u001b[0m\u001b[37m\u001b[0m \u001b[1m0s\u001b[0m 6ms/step - disease_output_accuracy: 0.9303 - disease_output_loss: 0.5306 - loss: 1.7811 - prescription_output_accuracy: 0.9102 - prescription_output_loss: 1.2501\n",
      "Epoch 54/100\n",
      "\u001b[1m13/13\u001b[0m \u001b[32m━━━━━━━━━━━━━━━━━━━━\u001b[0m\u001b[37m\u001b[0m \u001b[1m0s\u001b[0m 6ms/step - disease_output_accuracy: 0.9325 - disease_output_loss: 0.4912 - loss: 1.7457 - prescription_output_accuracy: 0.8925 - prescription_output_loss: 1.2543\n",
      "Epoch 55/100\n",
      "\u001b[1m13/13\u001b[0m \u001b[32m━━━━━━━━━━━━━━━━━━━━\u001b[0m\u001b[37m\u001b[0m \u001b[1m0s\u001b[0m 6ms/step - disease_output_accuracy: 0.9266 - disease_output_loss: 0.4952 - loss: 1.6944 - prescription_output_accuracy: 0.9139 - prescription_output_loss: 1.2001\n",
      "Epoch 56/100\n",
      "\u001b[1m13/13\u001b[0m \u001b[32m━━━━━━━━━━━━━━━━━━━━\u001b[0m\u001b[37m\u001b[0m \u001b[1m0s\u001b[0m 6ms/step - disease_output_accuracy: 0.9356 - disease_output_loss: 0.4964 - loss: 1.6682 - prescription_output_accuracy: 0.9108 - prescription_output_loss: 1.1714\n",
      "Epoch 57/100\n",
      "\u001b[1m13/13\u001b[0m \u001b[32m━━━━━━━━━━━━━━━━━━━━\u001b[0m\u001b[37m\u001b[0m \u001b[1m0s\u001b[0m 6ms/step - disease_output_accuracy: 0.9535 - disease_output_loss: 0.4336 - loss: 1.5337 - prescription_output_accuracy: 0.9325 - prescription_output_loss: 1.1001\n",
      "Epoch 58/100\n",
      "\u001b[1m13/13\u001b[0m \u001b[32m━━━━━━━━━━━━━━━━━━━━\u001b[0m\u001b[37m\u001b[0m \u001b[1m0s\u001b[0m 8ms/step - disease_output_accuracy: 0.9603 - disease_output_loss: 0.4189 - loss: 1.4615 - prescription_output_accuracy: 0.9368 - prescription_output_loss: 1.0427\n",
      "Epoch 59/100\n",
      "\u001b[1m13/13\u001b[0m \u001b[32m━━━━━━━━━━━━━━━━━━━━\u001b[0m\u001b[37m\u001b[0m \u001b[1m0s\u001b[0m 7ms/step - disease_output_accuracy: 0.9621 - disease_output_loss: 0.4051 - loss: 1.4413 - prescription_output_accuracy: 0.9352 - prescription_output_loss: 1.0358\n",
      "Epoch 60/100\n",
      "\u001b[1m13/13\u001b[0m \u001b[32m━━━━━━━━━━━━━━━━━━━━\u001b[0m\u001b[37m\u001b[0m \u001b[1m0s\u001b[0m 6ms/step - disease_output_accuracy: 0.9458 - disease_output_loss: 0.4014 - loss: 1.4168 - prescription_output_accuracy: 0.9427 - prescription_output_loss: 1.0158\n",
      "Epoch 61/100\n",
      "\u001b[1m13/13\u001b[0m \u001b[32m━━━━━━━━━━━━━━━━━━━━\u001b[0m\u001b[37m\u001b[0m \u001b[1m0s\u001b[0m 6ms/step - disease_output_accuracy: 0.9536 - disease_output_loss: 0.3914 - loss: 1.3651 - prescription_output_accuracy: 0.9536 - prescription_output_loss: 0.9734\n",
      "Epoch 62/100\n",
      "\u001b[1m13/13\u001b[0m \u001b[32m━━━━━━━━━━━━━━━━━━━━\u001b[0m\u001b[37m\u001b[0m \u001b[1m0s\u001b[0m 6ms/step - disease_output_accuracy: 0.9598 - disease_output_loss: 0.3735 - loss: 1.3700 - prescription_output_accuracy: 0.9119 - prescription_output_loss: 0.9963\n",
      "Epoch 63/100\n",
      "\u001b[1m13/13\u001b[0m \u001b[32m━━━━━━━━━━━━━━━━━━━━\u001b[0m\u001b[37m\u001b[0m \u001b[1m0s\u001b[0m 7ms/step - disease_output_accuracy: 0.9579 - disease_output_loss: 0.3789 - loss: 1.2914 - prescription_output_accuracy: 0.9452 - prescription_output_loss: 0.9124\n",
      "Epoch 64/100\n",
      "\u001b[1m13/13\u001b[0m \u001b[32m━━━━━━━━━━━━━━━━━━━━\u001b[0m\u001b[37m\u001b[0m \u001b[1m0s\u001b[0m 15ms/step - disease_output_accuracy: 0.9628 - disease_output_loss: 0.3680 - loss: 1.2976 - prescription_output_accuracy: 0.9476 - prescription_output_loss: 0.9297\n",
      "Epoch 65/100\n",
      "\u001b[1m13/13\u001b[0m \u001b[32m━━━━━━━━━━━━━━━━━━━━\u001b[0m\u001b[37m\u001b[0m \u001b[1m0s\u001b[0m 8ms/step - disease_output_accuracy: 0.9637 - disease_output_loss: 0.3586 - loss: 1.2291 - prescription_output_accuracy: 0.9464 - prescription_output_loss: 0.8699\n",
      "Epoch 66/100\n",
      "\u001b[1m13/13\u001b[0m \u001b[32m━━━━━━━━━━━━━━━━━━━━\u001b[0m\u001b[37m\u001b[0m \u001b[1m0s\u001b[0m 7ms/step - disease_output_accuracy: 0.9683 - disease_output_loss: 0.3095 - loss: 1.1567 - prescription_output_accuracy: 0.9628 - prescription_output_loss: 0.8471\n",
      "Epoch 67/100\n",
      "\u001b[1m13/13\u001b[0m \u001b[32m━━━━━━━━━━━━━━━━━━━━\u001b[0m\u001b[37m\u001b[0m \u001b[1m0s\u001b[0m 6ms/step - disease_output_accuracy: 0.9765 - disease_output_loss: 0.3055 - loss: 1.0994 - prescription_output_accuracy: 0.9638 - prescription_output_loss: 0.7941\n",
      "Epoch 68/100\n",
      "\u001b[1m13/13\u001b[0m \u001b[32m━━━━━━━━━━━━━━━━━━━━\u001b[0m\u001b[37m\u001b[0m \u001b[1m0s\u001b[0m 6ms/step - disease_output_accuracy: 0.9745 - disease_output_loss: 0.3027 - loss: 1.1022 - prescription_output_accuracy: 0.9433 - prescription_output_loss: 0.7989\n",
      "Epoch 69/100\n",
      "\u001b[1m13/13\u001b[0m \u001b[32m━━━━━━━━━━━━━━━━━━━━\u001b[0m\u001b[37m\u001b[0m \u001b[1m0s\u001b[0m 6ms/step - disease_output_accuracy: 0.9727 - disease_output_loss: 0.3066 - loss: 1.0910 - prescription_output_accuracy: 0.9434 - prescription_output_loss: 0.7843\n",
      "Epoch 70/100\n",
      "\u001b[1m13/13\u001b[0m \u001b[32m━━━━━━━━━━━━━━━━━━━━\u001b[0m\u001b[37m\u001b[0m \u001b[1m0s\u001b[0m 6ms/step - disease_output_accuracy: 0.9633 - disease_output_loss: 0.3051 - loss: 1.0510 - prescription_output_accuracy: 0.9465 - prescription_output_loss: 0.7463\n",
      "Epoch 71/100\n",
      "\u001b[1m13/13\u001b[0m \u001b[32m━━━━━━━━━━━━━━━━━━━━\u001b[0m\u001b[37m\u001b[0m \u001b[1m0s\u001b[0m 6ms/step - disease_output_accuracy: 0.9722 - disease_output_loss: 0.2863 - loss: 0.9980 - prescription_output_accuracy: 0.9649 - prescription_output_loss: 0.7121\n",
      "Epoch 72/100\n",
      "\u001b[1m13/13\u001b[0m \u001b[32m━━━━━━━━━━━━━━━━━━━━\u001b[0m\u001b[37m\u001b[0m \u001b[1m0s\u001b[0m 6ms/step - disease_output_accuracy: 0.9676 - disease_output_loss: 0.2843 - loss: 0.9878 - prescription_output_accuracy: 0.9477 - prescription_output_loss: 0.7038\n",
      "Epoch 73/100\n",
      "\u001b[1m13/13\u001b[0m \u001b[32m━━━━━━━━━━━━━━━━━━━━\u001b[0m\u001b[37m\u001b[0m \u001b[1m0s\u001b[0m 6ms/step - disease_output_accuracy: 0.9698 - disease_output_loss: 0.2917 - loss: 0.9983 - prescription_output_accuracy: 0.9575 - prescription_output_loss: 0.7069\n",
      "Epoch 74/100\n",
      "\u001b[1m13/13\u001b[0m \u001b[32m━━━━━━━━━━━━━━━━━━━━\u001b[0m\u001b[37m\u001b[0m \u001b[1m0s\u001b[0m 6ms/step - disease_output_accuracy: 0.9694 - disease_output_loss: 0.2747 - loss: 0.9520 - prescription_output_accuracy: 0.9411 - prescription_output_loss: 0.6770\n",
      "Epoch 75/100\n",
      "\u001b[1m13/13\u001b[0m \u001b[32m━━━━━━━━━━━━━━━━━━━━\u001b[0m\u001b[37m\u001b[0m \u001b[1m0s\u001b[0m 6ms/step - disease_output_accuracy: 0.9679 - disease_output_loss: 0.2719 - loss: 0.9420 - prescription_output_accuracy: 0.9556 - prescription_output_loss: 0.6706\n",
      "Epoch 76/100\n",
      "\u001b[1m13/13\u001b[0m \u001b[32m━━━━━━━━━━━━━━━━━━━━\u001b[0m\u001b[37m\u001b[0m \u001b[1m0s\u001b[0m 6ms/step - disease_output_accuracy: 0.9496 - disease_output_loss: 0.2650 - loss: 0.9010 - prescription_output_accuracy: 0.9577 - prescription_output_loss: 0.6353\n",
      "Epoch 77/100\n",
      "\u001b[1m13/13\u001b[0m \u001b[32m━━━━━━━━━━━━━━━━━━━━\u001b[0m\u001b[37m\u001b[0m \u001b[1m0s\u001b[0m 7ms/step - disease_output_accuracy: 0.9734 - disease_output_loss: 0.2652 - loss: 0.9098 - prescription_output_accuracy: 0.9566 - prescription_output_loss: 0.6441\n",
      "Epoch 78/100\n",
      "\u001b[1m13/13\u001b[0m \u001b[32m━━━━━━━━━━━━━━━━━━━━\u001b[0m\u001b[37m\u001b[0m \u001b[1m0s\u001b[0m 7ms/step - disease_output_accuracy: 0.9676 - disease_output_loss: 0.2408 - loss: 0.8562 - prescription_output_accuracy: 0.9654 - prescription_output_loss: 0.6148\n",
      "Epoch 79/100\n",
      "\u001b[1m13/13\u001b[0m \u001b[32m━━━━━━━━━━━━━━━━━━━━\u001b[0m\u001b[37m\u001b[0m \u001b[1m0s\u001b[0m 7ms/step - disease_output_accuracy: 0.9714 - disease_output_loss: 0.2402 - loss: 0.8364 - prescription_output_accuracy: 0.9564 - prescription_output_loss: 0.5956\n",
      "Epoch 80/100\n",
      "\u001b[1m13/13\u001b[0m \u001b[32m━━━━━━━━━━━━━━━━━━━━\u001b[0m\u001b[37m\u001b[0m \u001b[1m0s\u001b[0m 7ms/step - disease_output_accuracy: 0.9742 - disease_output_loss: 0.2196 - loss: 0.7950 - prescription_output_accuracy: 0.9663 - prescription_output_loss: 0.5758\n",
      "Epoch 81/100\n",
      "\u001b[1m13/13\u001b[0m \u001b[32m━━━━━━━━━━━━━━━━━━━━\u001b[0m\u001b[37m\u001b[0m \u001b[1m0s\u001b[0m 7ms/step - disease_output_accuracy: 0.9679 - disease_output_loss: 0.2258 - loss: 0.7871 - prescription_output_accuracy: 0.9481 - prescription_output_loss: 0.5618\n",
      "Epoch 82/100\n",
      "\u001b[1m13/13\u001b[0m \u001b[32m━━━━━━━━━━━━━━━━━━━━\u001b[0m\u001b[37m\u001b[0m \u001b[1m0s\u001b[0m 7ms/step - disease_output_accuracy: 0.9725 - disease_output_loss: 0.2285 - loss: 0.7787 - prescription_output_accuracy: 0.9579 - prescription_output_loss: 0.5507\n",
      "Epoch 83/100\n",
      "\u001b[1m13/13\u001b[0m \u001b[32m━━━━━━━━━━━━━━━━━━━━\u001b[0m\u001b[37m\u001b[0m \u001b[1m0s\u001b[0m 6ms/step - disease_output_accuracy: 0.9828 - disease_output_loss: 0.2077 - loss: 0.7515 - prescription_output_accuracy: 0.9573 - prescription_output_loss: 0.5438\n",
      "Epoch 84/100\n",
      "\u001b[1m13/13\u001b[0m \u001b[32m━━━━━━━━━━━━━━━━━━━━\u001b[0m\u001b[37m\u001b[0m \u001b[1m0s\u001b[0m 11ms/step - disease_output_accuracy: 0.9807 - disease_output_loss: 0.2237 - loss: 0.7628 - prescription_output_accuracy: 0.9586 - prescription_output_loss: 0.5392\n",
      "Epoch 85/100\n",
      "\u001b[1m13/13\u001b[0m \u001b[32m━━━━━━━━━━━━━━━━━━━━\u001b[0m\u001b[37m\u001b[0m \u001b[1m0s\u001b[0m 8ms/step - disease_output_accuracy: 0.9668 - disease_output_loss: 0.2222 - loss: 0.7336 - prescription_output_accuracy: 0.9568 - prescription_output_loss: 0.5113\n",
      "Epoch 86/100\n",
      "\u001b[1m13/13\u001b[0m \u001b[32m━━━━━━━━━━━━━━━━━━━━\u001b[0m\u001b[37m\u001b[0m \u001b[1m0s\u001b[0m 7ms/step - disease_output_accuracy: 0.9822 - disease_output_loss: 0.1901 - loss: 0.6904 - prescription_output_accuracy: 0.9626 - prescription_output_loss: 0.5000\n",
      "Epoch 87/100\n",
      "\u001b[1m13/13\u001b[0m \u001b[32m━━━━━━━━━━━━━━━━━━━━\u001b[0m\u001b[37m\u001b[0m \u001b[1m0s\u001b[0m 7ms/step - disease_output_accuracy: 0.9865 - disease_output_loss: 0.1837 - loss: 0.6532 - prescription_output_accuracy: 0.9700 - prescription_output_loss: 0.4696\n",
      "Epoch 88/100\n",
      "\u001b[1m13/13\u001b[0m \u001b[32m━━━━━━━━━━━━━━━━━━━━\u001b[0m\u001b[37m\u001b[0m \u001b[1m0s\u001b[0m 8ms/step - disease_output_accuracy: 0.9679 - disease_output_loss: 0.1944 - loss: 0.6612 - prescription_output_accuracy: 0.9655 - prescription_output_loss: 0.4668\n",
      "Epoch 89/100\n",
      "\u001b[1m13/13\u001b[0m \u001b[32m━━━━━━━━━━━━━━━━━━━━\u001b[0m\u001b[37m\u001b[0m \u001b[1m0s\u001b[0m 6ms/step - disease_output_accuracy: 0.9850 - disease_output_loss: 0.1758 - loss: 0.6606 - prescription_output_accuracy: 0.9626 - prescription_output_loss: 0.4847\n",
      "Epoch 90/100\n",
      "\u001b[1m13/13\u001b[0m \u001b[32m━━━━━━━━━━━━━━━━━━━━\u001b[0m\u001b[37m\u001b[0m \u001b[1m0s\u001b[0m 7ms/step - disease_output_accuracy: 0.9719 - disease_output_loss: 0.2052 - loss: 0.7116 - prescription_output_accuracy: 0.9622 - prescription_output_loss: 0.5062\n",
      "Epoch 91/100\n",
      "\u001b[1m13/13\u001b[0m \u001b[32m━━━━━━━━━━━━━━━━━━━━\u001b[0m\u001b[37m\u001b[0m \u001b[1m0s\u001b[0m 8ms/step - disease_output_accuracy: 0.9742 - disease_output_loss: 0.1725 - loss: 0.6206 - prescription_output_accuracy: 0.9599 - prescription_output_loss: 0.4479\n",
      "Epoch 92/100\n",
      "\u001b[1m13/13\u001b[0m \u001b[32m━━━━━━━━━━━━━━━━━━━━\u001b[0m\u001b[37m\u001b[0m \u001b[1m0s\u001b[0m 6ms/step - disease_output_accuracy: 0.9823 - disease_output_loss: 0.1796 - loss: 0.6435 - prescription_output_accuracy: 0.9569 - prescription_output_loss: 0.4642\n",
      "Epoch 93/100\n",
      "\u001b[1m13/13\u001b[0m \u001b[32m━━━━━━━━━━━━━━━━━━━━\u001b[0m\u001b[37m\u001b[0m \u001b[1m0s\u001b[0m 6ms/step - disease_output_accuracy: 0.9870 - disease_output_loss: 0.1660 - loss: 0.5790 - prescription_output_accuracy: 0.9643 - prescription_output_loss: 0.4130\n",
      "Epoch 94/100\n",
      "\u001b[1m13/13\u001b[0m \u001b[32m━━━━━━━━━━━━━━━━━━━━\u001b[0m\u001b[37m\u001b[0m \u001b[1m0s\u001b[0m 6ms/step - disease_output_accuracy: 0.9727 - disease_output_loss: 0.1781 - loss: 0.6142 - prescription_output_accuracy: 0.9623 - prescription_output_loss: 0.4365\n",
      "Epoch 95/100\n",
      "\u001b[1m13/13\u001b[0m \u001b[32m━━━━━━━━━━━━━━━━━━━━\u001b[0m\u001b[37m\u001b[0m \u001b[1m0s\u001b[0m 6ms/step - disease_output_accuracy: 0.9797 - disease_output_loss: 0.1717 - loss: 0.5663 - prescription_output_accuracy: 0.9734 - prescription_output_loss: 0.3949\n",
      "Epoch 96/100\n",
      "\u001b[1m13/13\u001b[0m \u001b[32m━━━━━━━━━━━━━━━━━━━━\u001b[0m\u001b[37m\u001b[0m \u001b[1m0s\u001b[0m 6ms/step - disease_output_accuracy: 0.9767 - disease_output_loss: 0.1668 - loss: 0.5794 - prescription_output_accuracy: 0.9721 - prescription_output_loss: 0.4125\n",
      "Epoch 97/100\n",
      "\u001b[1m13/13\u001b[0m \u001b[32m━━━━━━━━━━━━━━━━━━━━\u001b[0m\u001b[37m\u001b[0m \u001b[1m0s\u001b[0m 6ms/step - disease_output_accuracy: 0.9841 - disease_output_loss: 0.1664 - loss: 0.5698 - prescription_output_accuracy: 0.9699 - prescription_output_loss: 0.4035\n",
      "Epoch 98/100\n",
      "\u001b[1m13/13\u001b[0m \u001b[32m━━━━━━━━━━━━━━━━━━━━\u001b[0m\u001b[37m\u001b[0m \u001b[1m0s\u001b[0m 6ms/step - disease_output_accuracy: 0.9826 - disease_output_loss: 0.1531 - loss: 0.5358 - prescription_output_accuracy: 0.9626 - prescription_output_loss: 0.3830\n",
      "Epoch 99/100\n",
      "\u001b[1m13/13\u001b[0m \u001b[32m━━━━━━━━━━━━━━━━━━━━\u001b[0m\u001b[37m\u001b[0m \u001b[1m0s\u001b[0m 5ms/step - disease_output_accuracy: 0.9843 - disease_output_loss: 0.1510 - loss: 0.5176 - prescription_output_accuracy: 0.9755 - prescription_output_loss: 0.3671\n",
      "Epoch 100/100\n",
      "\u001b[1m13/13\u001b[0m \u001b[32m━━━━━━━━━━━━━━━━━━━━\u001b[0m\u001b[37m\u001b[0m \u001b[1m0s\u001b[0m 5ms/step - disease_output_accuracy: 0.9868 - disease_output_loss: 0.1410 - loss: 0.4970 - prescription_output_accuracy: 0.9686 - prescription_output_loss: 0.3571\n"
     ]
    },
    {
     "data": {
      "text/plain": [
       "<keras.src.callbacks.history.History at 0x3190f2e10>"
      ]
     },
     "execution_count": 381,
     "metadata": {},
     "output_type": "execute_result"
    }
   ],
   "source": [
    "model.fit(padded_sequences, {\n",
    "    'disease_output': disease_encoded,\n",
    "    'prescription_output': prescription_encoded,\n",
    "},\n",
    "batch_size=32,\n",
    "epochs=100\n",
    ")\n"
   ]
  },
  {
   "cell_type": "markdown",
   "metadata": {},
   "source": [
    "# Prediction function"
   ]
  },
  {
   "cell_type": "code",
   "execution_count": 392,
   "metadata": {},
   "outputs": [],
   "source": [
    "def patient_prediction(patient_input):\n",
    "    text_preprocessing = preprocessong(patient_input)\n",
    "    text_token = tokenizer.texts_to_sequences([text_preprocessing])\n",
    "    text_padding = pad_sequences(text_token, maxlen=max_length)\n",
    "    return text_padding"
   ]
  },
  {
   "cell_type": "markdown",
   "metadata": {},
   "source": [
    "# Example usage"
   ]
  },
  {
   "cell_type": "code",
   "execution_count": 412,
   "metadata": {},
   "outputs": [
    {
     "name": "stdout",
     "output_type": "stream",
     "text": [
      "\u001b[1m1/1\u001b[0m \u001b[32m━━━━━━━━━━━━━━━━━━━━\u001b[0m\u001b[37m\u001b[0m \u001b[1m0s\u001b[0m 14ms/step\n"
     ]
    }
   ],
   "source": [
    "patient_request = 'Constant fatigue and muscle weakness, struggling to stay awake.'\n",
    "function_res = patient_prediction(patient_request)\n",
    "prediction = model.predict(function_res)\n",
    "disease_index = np.argmax(prediction[0])\n",
    "prescription_index = np.argmax(prediction[1])"
   ]
  },
  {
   "cell_type": "markdown",
   "metadata": {},
   "source": [
    "# Retrieve the predicted label"
   ]
  },
  {
   "cell_type": "code",
   "execution_count": 417,
   "metadata": {},
   "outputs": [],
   "source": [
    "disease_inverse = ' '.join( disease_label.inverse_transform([disease_index]))\n",
    "prescription_inverse = ' '.join(prescription_label.inverse_transform([prescription_index]))"
   ]
  },
  {
   "cell_type": "code",
   "execution_count": 418,
   "metadata": {},
   "outputs": [
    {
     "name": "stdout",
     "output_type": "stream",
     "text": [
      "Your Disease Type Is: Chronic Fatigue Syndrome\n",
      "Recommendation: Cognitive behavioral therapy, graded exercise therapy.\n"
     ]
    }
   ],
   "source": [
    "print(f\"Your Disease Type Is: {disease_inverse}\")\n",
    "print(f\"Recommendation: {prescription_inverse}\")"
   ]
  },
  {
   "cell_type": "markdown",
   "metadata": {},
   "source": [
    "# Print the results"
   ]
  }
 ],
 "metadata": {
  "kernelspec": {
   "display_name": "Python 3",
   "language": "python",
   "name": "python3"
  },
  "language_info": {
   "codemirror_mode": {
    "name": "ipython",
    "version": 3
   },
   "file_extension": ".py",
   "mimetype": "text/x-python",
   "name": "python",
   "nbconvert_exporter": "python",
   "pygments_lexer": "ipython3",
   "version": "3.12.0"
  }
 },
 "nbformat": 4,
 "nbformat_minor": 2
}
